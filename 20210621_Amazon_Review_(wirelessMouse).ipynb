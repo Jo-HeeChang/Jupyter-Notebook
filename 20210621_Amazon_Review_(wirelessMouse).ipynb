{
 "cells": [
  {
   "cell_type": "markdown",
   "metadata": {},
   "source": [
    "### 설정"
   ]
  },
  {
   "cell_type": "code",
   "execution_count": 211,
   "metadata": {},
   "outputs": [],
   "source": [
    "import os\n",
    "from selenium import webdriver\n",
    "from bs4 import BeautifulSoup\n",
    "import time\n",
    "import re\n",
    "import pandas as pd"
   ]
  },
  {
   "cell_type": "markdown",
   "metadata": {},
   "source": [
    "### 크롬 드라이버키기"
   ]
  },
  {
   "cell_type": "code",
   "execution_count": 202,
   "metadata": {},
   "outputs": [],
   "source": [
    "driver = webdriver.Chrome('./chromedriver_90')"
   ]
  },
  {
   "cell_type": "markdown",
   "metadata": {},
   "source": [
    "### url 접속"
   ]
  },
  {
   "cell_type": "code",
   "execution_count": 203,
   "metadata": {},
   "outputs": [],
   "source": [
    "url = \"https://www.amazon.com/\"\n",
    "driver.get(url)"
   ]
  },
  {
   "cell_type": "markdown",
   "metadata": {},
   "source": [
    "### 버튼 및 검색창 찾기"
   ]
  },
  {
   "cell_type": "code",
   "execution_count": 204,
   "metadata": {},
   "outputs": [
    {
     "name": "stdout",
     "output_type": "stream",
     "text": [
      "input input\n"
     ]
    }
   ],
   "source": [
    "sel_search = driver.find_element_by_xpath('//*[@id=\"twotabsearchtextbox\"]')\n",
    "sel_btn = driver.find_element_by_xpath('//*[@id=\"nav-search-submit-button\"]')\n",
    "\n",
    "#print(sel_search, sel_btn)\n",
    "print(sel_search.tag_name, sel_btn.tag_name)"
   ]
  },
  {
   "cell_type": "markdown",
   "metadata": {},
   "source": [
    "### 검색(click)"
   ]
  },
  {
   "cell_type": "code",
   "execution_count": 205,
   "metadata": {},
   "outputs": [],
   "source": [
    "sel_search.clear()\n",
    "sel_search.send_keys('wireless mouse')\n",
    "sel_btn.click()"
   ]
  },
  {
   "cell_type": "code",
   "execution_count": 206,
   "metadata": {},
   "outputs": [],
   "source": [
    "choice = driver.find_element_by_xpath('//*[@id=\"search\"]/div[1]/div/div[1]/div/span[3]/div[2]/div[3]/div/span/div/div/div/div/div[2]/div[2]/div/div[1]/h2/a')\n",
    "choice.click()"
   ]
  },
  {
   "cell_type": "code",
   "execution_count": 207,
   "metadata": {},
   "outputs": [],
   "source": [
    "choice_1 = driver.find_element_by_xpath('//*[@id=\"reviews-medley-footer\"]/div[2]/a')\n",
    "choice_1.click()"
   ]
  },
  {
   "cell_type": "markdown",
   "metadata": {},
   "source": [
    "### 제목확인"
   ]
  },
  {
   "cell_type": "code",
   "execution_count": 174,
   "metadata": {},
   "outputs": [
    {
     "data": {
      "text/plain": [
       "<title>Amazon.com: Customer reviews: Jelly Comb 2.4G Slim Wireless Mouse with Nano Receiver MS001 (Black and Gold)</title>"
      ]
     },
     "execution_count": 174,
     "metadata": {},
     "output_type": "execute_result"
    }
   ],
   "source": [
    "page = driver.page_source\n",
    "soup = BeautifulSoup(page,'lxml')\n",
    "soup.title"
   ]
  },
  {
   "cell_type": "markdown",
   "metadata": {},
   "source": [
    "### 상품 이름"
   ]
  },
  {
   "cell_type": "code",
   "execution_count": 175,
   "metadata": {},
   "outputs": [],
   "source": [
    "title = soup.find_all('span', class_ = 'a-size-large product-title-word-break')\n",
    "\n",
    "for one in title:\n",
    "    print(one.text.strip())"
   ]
  },
  {
   "cell_type": "markdown",
   "metadata": {},
   "source": [
    "### 상품 리뷰"
   ]
  },
  {
   "cell_type": "code",
   "execution_count": 176,
   "metadata": {},
   "outputs": [
    {
     "data": {
      "text/plain": [
       "0"
      ]
     },
     "execution_count": 176,
     "metadata": {},
     "output_type": "execute_result"
    }
   ],
   "source": [
    "review = soup.find_all('div', class_ = 'a-expander-content reviewText review-text-content a-expander-partial-collapse-content')\n",
    "for one in review:\n",
    "    print(one.text.strip(), end = \"\\n\\n\\n\\n\")\n",
    "len(review)"
   ]
  },
  {
   "cell_type": "markdown",
   "metadata": {},
   "source": [
    "### 리뷰작성자"
   ]
  },
  {
   "cell_type": "code",
   "execution_count": 177,
   "metadata": {},
   "outputs": [
    {
     "name": "stdout",
     "output_type": "stream",
     "text": [
      "Sigrid Koo\n",
      "Doc\n",
      "Doc\n",
      "Sigrid Koo\n",
      "MonkeyPaw\n",
      "AmazonCustomer\n",
      "DJW\n",
      "KM\n",
      "chelizabeth\n",
      "Lawren Freebody\n",
      "Gabriel Martinez\n",
      "Melissa Teller\n"
     ]
    },
    {
     "data": {
      "text/plain": [
       "12"
      ]
     },
     "execution_count": 177,
     "metadata": {},
     "output_type": "execute_result"
    }
   ],
   "source": [
    "user = soup.find_all('span', class_ = 'a-profile-name')\n",
    "for one in user:\n",
    "    print(one.text)\n",
    "len(user)"
   ]
  },
  {
   "cell_type": "markdown",
   "metadata": {},
   "source": [
    "### 평점"
   ]
  },
  {
   "cell_type": "code",
   "execution_count": 178,
   "metadata": {},
   "outputs": [
    {
     "data": {
      "text/plain": [
       "'1'"
      ]
     },
     "execution_count": 178,
     "metadata": {},
     "output_type": "execute_result"
    }
   ],
   "source": [
    "all_s = soup.find_all('div', class_ = 'a-section celwidget')\n",
    "tmp = all_s[0].find('span', class_ = 'a-icon-alt').text\n",
    "rating = re.findall('\\d+', tmp)\n",
    "rating[0]"
   ]
  },
  {
   "cell_type": "code",
   "execution_count": 179,
   "metadata": {},
   "outputs": [
    {
     "data": {
      "text/plain": [
       "['1', '5', '5', '5', '5', '1', '1', '3', '5', '5']"
      ]
     },
     "execution_count": 179,
     "metadata": {},
     "output_type": "execute_result"
    }
   ],
   "source": [
    "all_score = []\n",
    "for one in all_s:\n",
    "    rating_one = one.find('span', class_ = 'a-icon-alt').text\n",
    "    nums = re.findall('\\d+', rating_one)[0]\n",
    "    all_score.append(nums)\n",
    "all_score"
   ]
  },
  {
   "cell_type": "markdown",
   "metadata": {},
   "source": [
    "### 날짜"
   ]
  },
  {
   "cell_type": "code",
   "execution_count": 180,
   "metadata": {},
   "outputs": [
    {
     "name": "stdout",
     "output_type": "stream",
     "text": [
      " March 19, 2019\n",
      " September 22, 2017\n",
      " September 22, 2017\n",
      " March 19, 2019\n",
      " March 21, 2017\n",
      " October 5, 2017\n",
      " March 13, 2017\n",
      " September 16, 2017\n",
      " December 15, 2017\n",
      " July 26, 2017\n",
      " October 19, 2016\n",
      " March 17, 2020\n"
     ]
    }
   ],
   "source": [
    "date = soup.find_all('span', class_ = 'a-size-base a-color-secondary review-date')\n",
    "for one in date:\n",
    "    texts = one.text.split('on')\n",
    "    print(texts[1])"
   ]
  },
  {
   "cell_type": "markdown",
   "metadata": {},
   "source": [
    "# 여러페이지의 정보 가져오기"
   ]
  },
  {
   "cell_type": "code",
   "execution_count": 209,
   "metadata": {},
   "outputs": [
    {
     "name": "stdout",
     "output_type": "stream",
     "text": [
      "<title>Amazon.com: Customer reviews: Jelly Comb 2.4G Slim Wireless Mouse with Nano Receiver MS001 (Black and Gold)</title>\n",
      "10\n",
      "user :  Melissa Teller rating :  5\n",
      "review :  Your browser does not support HTML5 video.\n",
      "\n",
      "\n",
      "   I really like that it was easy to set up with my laptop.  The colors are great, and its very quiet.  I got  because my baby can hear a pin drop and she doesn't wake up when I click. it sometimes need an easy shake when in sleep mode but I don't think that's as issue. you'll know when it needs a new battery. it takes one AA battery. I didn't show the lil piece that plugs into the computer but its small and stays on the side of your computer in the USB outlet date: \n",
      "\n",
      "\n",
      "<title>Amazon.com: Customer reviews: Jelly Comb 2.4G Slim Wireless Mouse with Nano Receiver MS001 (Black and Gold)</title>\n",
      "10\n",
      "user :  Patti-Cakes from Dayton rating :  5\n",
      "review :  Perfect for the budget-conscious, no-frills user.  I'm not a gamer.  I use my computer for work, email and surfing the web.  When I saw the gazillion items that came up when I searched \"wireless mouse\", I just took a deep sigh. So many different shapes and colors and \"frills\"(?)  I thought \"Listen, I just want a frickin wireless mouse that works, that isn't annoying.\"  This little number is sleek, simplistically attractive, the wheel is great, the piece that plugs into the usb port is small enough where you can leave it in all the time and there's a great storage place in the mouse for it too. (which may be pretty standard for any wireless mouse, who  knows. I don't.) And it's CHEAP! This mouse is perfect for me and I'd recommend it to anyone. And I'd buy it again. date: \n",
      "\n",
      "\n",
      "<title>Amazon.com: Customer reviews: Jelly Comb 2.4G Slim Wireless Mouse with Nano Receiver MS001 (Black and Gold)</title>\n",
      "10\n",
      "user :  Leonard Paasch rating :  1\n",
      "review :  I have never heard of sleep mode on a mouse.  There is this website called Amazon which sells AAA batteries by the dozens for like $2.  Instead i'm switching a switch every 5 minutes.The button has a sweet spot.  You think you're going to highlight a paragraph, nope, just part of it.  Then you send a horrible email.  You meant to say something nice and then get to the point, nope you just send the part about how they suck at every aspect of life.....you mean to say you're trying and I hope all is well, but no, the button on the mouse does not work so you're gonna remember that for life.Gotta love breakups.And it's not tiny either like the keywords are, this thing is a big mouse.  A nice mouse is about 2 fingers....this mouse is easily 3-4 finger, this might be a fist. date: \n",
      "\n",
      "\n",
      "<title>Amazon.com: Customer reviews: Jelly Comb 2.4G Slim Wireless Mouse with Nano Receiver MS001 (Black and Gold)</title>\n",
      "10\n",
      "user :  Penny rating :  1\n",
      "review :  Order *placed* April 10 - mouse completely nonfunctional by May 1st. This thing worked for less than 20 days. Just having it plugged in for about 15 days for my laptop and it stopped tracking on screen. Now the USB gives an error if you plug it in 'Driver not installed correctly' - why it needs to reinstall the driver I have no clue. Also, even before it quit it wouldn't register when my computer was turned on. I would have to turn it off and turn it back on every time I sat down. My logitech/microsoft mice never needed that. Highly annoying. date: \n",
      "\n",
      "\n",
      "<title>Amazon.com: Customer reviews: Jelly Comb 2.4G Slim Wireless Mouse with Nano Receiver MS001 (Black and Gold)</title>\n",
      "10\n",
      "user :  Lady Day rating :  1\n",
      "review :  Bought this mouse via Prime May 28 2019. In early January 2020 the center scroll rubber \"button\" on the mouse just stopped working. It will not budge forward or backward; it simply will not work. I did try to \"unstick\" it but when I did, it still did not work. It went right back to being stuck and immovable.Up to now, I've liked the mouse, but really in the long run it's simply not worth it to pay for a mouse that will break after only SEVEN months usage. The right and left buttons still work but have you tried using a mouse without the scroll function? Yeah, not something one wants to do these days.Sorry, cannot recommend this Jelly Comb mouse. It looks nice, it has a sleek design, but it needs to be functional for more than seven months. date: \n",
      "\n",
      "\n"
     ]
    }
   ],
   "source": [
    "all_user = []    #사용자\n",
    "all_reviews = []  #리뷰\n",
    "all_ratings = [] #평점\n",
    "all_dates = []    #날짜\n",
    "\n",
    "for i in range(2,7,1):\n",
    "    time.sleep(2)\n",
    "    \n",
    "    page = driver.page_source\n",
    "    soup = BeautifulSoup(page, 'lxml')\n",
    "    print(soup.title)\n",
    "    \n",
    "    all_adr = soup.find_all('div', class_ ='a-section celwidget')\n",
    "    print(len(all_adr ))\n",
    "    \n",
    "    for one in all_adr:\n",
    "        user_one = one.find('span', class_ = 'a-profile-name').text\n",
    "        #print(user_one)\n",
    "        all_user.append(user_one)\n",
    "        \n",
    "        rating_one = one.find('span', class_ = 'a-icon-alt').text\n",
    "        \n",
    "        nums = re.findall('\\d+', rating_one)[0]\n",
    "        #print(nums)\n",
    "        all_ratings.append(nums)\n",
    "        \n",
    "        review_one = one.find('span', class_ = 'a-size-base review-text review-text-content')\n",
    "        tmp = review_one.text\n",
    "        review = tmp.strip()\n",
    "        all_reviews.append(review)\n",
    "        \n",
    "        date_one = one.find('span', class_ = \"a-size-base a-color-secondary review-date\")\n",
    "        texts = date_one.text.split('on')\n",
    "        data = texts[1].strip()\n",
    "        all_dates.append(data)\n",
    "        \n",
    "    print(\"user : \", all_user[-1], \"rating : \", all_ratings[-1])\n",
    "    print(\"review : \", all_reviews[-1], \"date: \", end = \"\\n\\n\\n\")\n",
    "    \n",
    "    \n",
    "    \n",
    "    sel_next = driver.find_element_by_xpath('//*[@id=\"cm_cr-pagination_bar\"]/ul/li[2]/a')\n",
    "    sel_next.click()"
   ]
  },
  {
   "cell_type": "markdown",
   "metadata": {},
   "source": [
    "## 데이터프레임으로 저장"
   ]
  },
  {
   "cell_type": "code",
   "execution_count": 216,
   "metadata": {},
   "outputs": [
    {
     "data": {
      "text/html": [
       "<div>\n",
       "<style scoped>\n",
       "    .dataframe tbody tr th:only-of-type {\n",
       "        vertical-align: middle;\n",
       "    }\n",
       "\n",
       "    .dataframe tbody tr th {\n",
       "        vertical-align: top;\n",
       "    }\n",
       "\n",
       "    .dataframe thead th {\n",
       "        text-align: right;\n",
       "    }\n",
       "</style>\n",
       "<table border=\"1\" class=\"dataframe\">\n",
       "  <thead>\n",
       "    <tr style=\"text-align: right;\">\n",
       "      <th></th>\n",
       "      <th>ratings</th>\n",
       "      <th>reviews</th>\n",
       "      <th>user</th>\n",
       "      <th>date</th>\n",
       "    </tr>\n",
       "  </thead>\n",
       "  <tbody>\n",
       "    <tr>\n",
       "      <th>0</th>\n",
       "      <td>1</td>\n",
       "      <td>Your browser does not support HTML5 video.\\n\\n...</td>\n",
       "      <td>Doc</td>\n",
       "      <td>September 22, 2017</td>\n",
       "    </tr>\n",
       "    <tr>\n",
       "      <th>1</th>\n",
       "      <td>5</td>\n",
       "      <td>Your browser does not support HTML5 video.\\n\\n...</td>\n",
       "      <td>Sigrid Koo</td>\n",
       "      <td>March 19, 2019</td>\n",
       "    </tr>\n",
       "    <tr>\n",
       "      <th>2</th>\n",
       "      <td>5</td>\n",
       "      <td>For the price this mouse is quite good. The to...</td>\n",
       "      <td>MonkeyPaw</td>\n",
       "      <td>March 21, 2017</td>\n",
       "    </tr>\n",
       "    <tr>\n",
       "      <th>3</th>\n",
       "      <td>5</td>\n",
       "      <td>Great wireless mouse. I love that it has an on...</td>\n",
       "      <td>AmazonCustomer</td>\n",
       "      <td>October 5, 2017</td>\n",
       "    </tr>\n",
       "    <tr>\n",
       "      <th>4</th>\n",
       "      <td>5</td>\n",
       "      <td>I don't really write that many reviews on Amaz...</td>\n",
       "      <td>DJW</td>\n",
       "      <td>March 13, 2017</td>\n",
       "    </tr>\n",
       "    <tr>\n",
       "      <th>5</th>\n",
       "      <td>1</td>\n",
       "      <td>Update 9/21/17: After initially leaving positi...</td>\n",
       "      <td>KM</td>\n",
       "      <td>September 16, 2017</td>\n",
       "    </tr>\n",
       "    <tr>\n",
       "      <th>6</th>\n",
       "      <td>1</td>\n",
       "      <td>DO NOT BUY THIS MOUSE. i know it's cheap, i kn...</td>\n",
       "      <td>chelizabeth</td>\n",
       "      <td>December 15, 2017</td>\n",
       "    </tr>\n",
       "    <tr>\n",
       "      <th>7</th>\n",
       "      <td>3</td>\n",
       "      <td>Lightweight and streamline, the click is barel...</td>\n",
       "      <td>Lawren Freebody</td>\n",
       "      <td>July 26, 2017</td>\n",
       "    </tr>\n",
       "    <tr>\n",
       "      <th>8</th>\n",
       "      <td>5</td>\n",
       "      <td>So far so good! I'll let you know if there is ...</td>\n",
       "      <td>Gabriel Martinez</td>\n",
       "      <td>October 19, 2016</td>\n",
       "    </tr>\n",
       "    <tr>\n",
       "      <th>9</th>\n",
       "      <td>5</td>\n",
       "      <td>Your browser does not support HTML5 video.\\n\\n...</td>\n",
       "      <td>Melissa Teller</td>\n",
       "      <td>March 17, 2020</td>\n",
       "    </tr>\n",
       "    <tr>\n",
       "      <th>10</th>\n",
       "      <td>1</td>\n",
       "      <td>This mouse didn’t even last me two full days. ...</td>\n",
       "      <td>Velvet Thunder</td>\n",
       "      <td>March 29, 2019</td>\n",
       "    </tr>\n",
       "    <tr>\n",
       "      <th>11</th>\n",
       "      <td>2</td>\n",
       "      <td>Your browser does not support HTML5 video.\\n\\n...</td>\n",
       "      <td>Velvet</td>\n",
       "      <td>April 25, 2018</td>\n",
       "    </tr>\n",
       "    <tr>\n",
       "      <th>12</th>\n",
       "      <td>5</td>\n",
       "      <td>I was looking for a light weight, low profile ...</td>\n",
       "      <td>Prentice</td>\n",
       "      <td>July 5, 2016</td>\n",
       "    </tr>\n",
       "    <tr>\n",
       "      <th>13</th>\n",
       "      <td>1</td>\n",
       "      <td>I got this product about a year ago but I neve...</td>\n",
       "      <td>JJ</td>\n",
       "      <td>February 15, 2019</td>\n",
       "    </tr>\n",
       "    <tr>\n",
       "      <th>14</th>\n",
       "      <td>1</td>\n",
       "      <td>EDIT 2/20/19:Completely stopped working. Wow, ...</td>\n",
       "      <td>jjk0892</td>\n",
       "      <td>February 7, 2019</td>\n",
       "    </tr>\n",
       "    <tr>\n",
       "      <th>15</th>\n",
       "      <td>2</td>\n",
       "      <td>This wireless mouse is nice. It feels good in ...</td>\n",
       "      <td>Max</td>\n",
       "      <td>December 27, 2017</td>\n",
       "    </tr>\n",
       "    <tr>\n",
       "      <th>16</th>\n",
       "      <td>1</td>\n",
       "      <td>I simply do not understand how this Slim Mouse...</td>\n",
       "      <td>StPete</td>\n",
       "      <td>November 8, 2019</td>\n",
       "    </tr>\n",
       "    <tr>\n",
       "      <th>17</th>\n",
       "      <td>5</td>\n",
       "      <td>Your browser does not support HTML5 video.\\n\\n...</td>\n",
       "      <td>J.R.</td>\n",
       "      <td>October 13, 2019</td>\n",
       "    </tr>\n",
       "    <tr>\n",
       "      <th>18</th>\n",
       "      <td>1</td>\n",
       "      <td>I am changing my initial review because the sl...</td>\n",
       "      <td>dr weitl</td>\n",
       "      <td>July 1, 2019</td>\n",
       "    </tr>\n",
       "    <tr>\n",
       "      <th>19</th>\n",
       "      <td>5</td>\n",
       "      <td>Perfect for the budget-conscious, no-frills us...</td>\n",
       "      <td>Patti-Cakes from Dayton</td>\n",
       "      <td>September 29, 2016</td>\n",
       "    </tr>\n",
       "    <tr>\n",
       "      <th>20</th>\n",
       "      <td>1</td>\n",
       "      <td>There are so many choices on Amazon, and I bou...</td>\n",
       "      <td>CMA</td>\n",
       "      <td>April 7, 2018</td>\n",
       "    </tr>\n",
       "    <tr>\n",
       "      <th>21</th>\n",
       "      <td>5</td>\n",
       "      <td>have had no problems with this. Was worried ab...</td>\n",
       "      <td>Colin J</td>\n",
       "      <td>November 11, 2016</td>\n",
       "    </tr>\n",
       "    <tr>\n",
       "      <th>22</th>\n",
       "      <td>5</td>\n",
       "      <td>I am quite hard on my mice and purchased this ...</td>\n",
       "      <td>Beth</td>\n",
       "      <td>May 30, 2017</td>\n",
       "    </tr>\n",
       "    <tr>\n",
       "      <th>23</th>\n",
       "      <td>4</td>\n",
       "      <td>Broken after about 9 months of light use.  Qua...</td>\n",
       "      <td>penguindeity</td>\n",
       "      <td>March 9, 2018</td>\n",
       "    </tr>\n",
       "    <tr>\n",
       "      <th>24</th>\n",
       "      <td>3</td>\n",
       "      <td>I'm a mouse connoisseur of sorts. When Logitec...</td>\n",
       "      <td>Johnny Blood</td>\n",
       "      <td>December 2, 2018</td>\n",
       "    </tr>\n",
       "    <tr>\n",
       "      <th>25</th>\n",
       "      <td>2</td>\n",
       "      <td>My Jelly Comb gave out on me, it now skips and...</td>\n",
       "      <td>Frannie</td>\n",
       "      <td>October 21, 2017</td>\n",
       "    </tr>\n",
       "    <tr>\n",
       "      <th>26</th>\n",
       "      <td>5</td>\n",
       "      <td>I have to say I am actually quite pleased with...</td>\n",
       "      <td>Seraphina</td>\n",
       "      <td>January 10, 2017</td>\n",
       "    </tr>\n",
       "    <tr>\n",
       "      <th>27</th>\n",
       "      <td>4</td>\n",
       "      <td>I like the colors of these mouses.  The click ...</td>\n",
       "      <td>safadez</td>\n",
       "      <td>April 12, 2020</td>\n",
       "    </tr>\n",
       "    <tr>\n",
       "      <th>28</th>\n",
       "      <td>5</td>\n",
       "      <td>Your browser does not support HTML5 video.\\n\\n...</td>\n",
       "      <td>Julia</td>\n",
       "      <td>December 23, 2019</td>\n",
       "    </tr>\n",
       "    <tr>\n",
       "      <th>29</th>\n",
       "      <td>1</td>\n",
       "      <td>I have never heard of sleep mode on a mouse.  ...</td>\n",
       "      <td>Leonard Paasch</td>\n",
       "      <td>October 21, 2019</td>\n",
       "    </tr>\n",
       "    <tr>\n",
       "      <th>30</th>\n",
       "      <td>3</td>\n",
       "      <td>Ill start with the pros:1. I absolutely LOVE t...</td>\n",
       "      <td>Amanda Ogden</td>\n",
       "      <td>February 23, 2021</td>\n",
       "    </tr>\n",
       "    <tr>\n",
       "      <th>31</th>\n",
       "      <td>4</td>\n",
       "      <td>I am THE mouse killer. I love my wireless mice...</td>\n",
       "      <td>Twisterjester</td>\n",
       "      <td>January 27, 2020</td>\n",
       "    </tr>\n",
       "    <tr>\n",
       "      <th>32</th>\n",
       "      <td>2</td>\n",
       "      <td>This mouse looks so amazing. I bought it for m...</td>\n",
       "      <td>Adroa</td>\n",
       "      <td>September 5, 2019</td>\n",
       "    </tr>\n",
       "    <tr>\n",
       "      <th>33</th>\n",
       "      <td>3</td>\n",
       "      <td>I have bought two of these, this recent one se...</td>\n",
       "      <td>Gruntlife</td>\n",
       "      <td>November 20, 2019</td>\n",
       "    </tr>\n",
       "    <tr>\n",
       "      <th>34</th>\n",
       "      <td>3</td>\n",
       "      <td>I purchased this slim mouse so it would would ...</td>\n",
       "      <td>melrowgo</td>\n",
       "      <td>March 5, 2019</td>\n",
       "    </tr>\n",
       "    <tr>\n",
       "      <th>35</th>\n",
       "      <td>4</td>\n",
       "      <td>The mouse seems to have its own mind of its ow...</td>\n",
       "      <td>Si Ristina</td>\n",
       "      <td>October 15, 2019</td>\n",
       "    </tr>\n",
       "    <tr>\n",
       "      <th>36</th>\n",
       "      <td>5</td>\n",
       "      <td>I had a silent mouse break during my flight du...</td>\n",
       "      <td>W. Kwok</td>\n",
       "      <td>May 4, 2019</td>\n",
       "    </tr>\n",
       "    <tr>\n",
       "      <th>37</th>\n",
       "      <td>5</td>\n",
       "      <td>This is a very sleek mouse. I bought it for my...</td>\n",
       "      <td>A</td>\n",
       "      <td>September 14, 2020</td>\n",
       "    </tr>\n",
       "    <tr>\n",
       "      <th>38</th>\n",
       "      <td>4</td>\n",
       "      <td>When looking for a mouse for my new MacBook Ai...</td>\n",
       "      <td>Oscar</td>\n",
       "      <td>September 1, 2017</td>\n",
       "    </tr>\n",
       "    <tr>\n",
       "      <th>39</th>\n",
       "      <td>1</td>\n",
       "      <td>Order *placed* April 10 - mouse completely non...</td>\n",
       "      <td>Penny</td>\n",
       "      <td>May 2, 2018</td>\n",
       "    </tr>\n",
       "    <tr>\n",
       "      <th>40</th>\n",
       "      <td>4</td>\n",
       "      <td>I purchased this product as a replacement for ...</td>\n",
       "      <td>Jane Q. Doe</td>\n",
       "      <td>June 14, 2019</td>\n",
       "    </tr>\n",
       "    <tr>\n",
       "      <th>41</th>\n",
       "      <td>5</td>\n",
       "      <td>I love the design and sleekness! I actually bo...</td>\n",
       "      <td>Shannon Brown</td>\n",
       "      <td>May 3, 2020</td>\n",
       "    </tr>\n",
       "    <tr>\n",
       "      <th>42</th>\n",
       "      <td>4</td>\n",
       "      <td>I had to replace my portable mouse and was dyi...</td>\n",
       "      <td>KL Thomas</td>\n",
       "      <td>June 3, 2019</td>\n",
       "    </tr>\n",
       "    <tr>\n",
       "      <th>43</th>\n",
       "      <td>2</td>\n",
       "      <td>I've had this mouse for about four and a half ...</td>\n",
       "      <td>S. Hutton</td>\n",
       "      <td>November 1, 2019</td>\n",
       "    </tr>\n",
       "    <tr>\n",
       "      <th>44</th>\n",
       "      <td>5</td>\n",
       "      <td>I downloaded Mojave on my Mac last week.  Afte...</td>\n",
       "      <td>A. Holloway</td>\n",
       "      <td>October 31, 2018</td>\n",
       "    </tr>\n",
       "    <tr>\n",
       "      <th>45</th>\n",
       "      <td>2</td>\n",
       "      <td>I didn't know until after purchase that the sl...</td>\n",
       "      <td>PACSman</td>\n",
       "      <td>May 14, 2021</td>\n",
       "    </tr>\n",
       "    <tr>\n",
       "      <th>46</th>\n",
       "      <td>5</td>\n",
       "      <td>Bought 3 of these looking for some basic wirel...</td>\n",
       "      <td>Sharif J</td>\n",
       "      <td>October 16, 2017</td>\n",
       "    </tr>\n",
       "    <tr>\n",
       "      <th>47</th>\n",
       "      <td>3</td>\n",
       "      <td>UPDATE -  I have been working with the custome...</td>\n",
       "      <td>Jared D</td>\n",
       "      <td>September 17, 2020</td>\n",
       "    </tr>\n",
       "    <tr>\n",
       "      <th>48</th>\n",
       "      <td>4</td>\n",
       "      <td>I could have bought any wireless mouse, but I ...</td>\n",
       "      <td>Gregory M.</td>\n",
       "      <td>August 19, 2020</td>\n",
       "    </tr>\n",
       "    <tr>\n",
       "      <th>49</th>\n",
       "      <td>1</td>\n",
       "      <td>Bought this mouse via Prime May 28 2019. In ea...</td>\n",
       "      <td>Lady Day</td>\n",
       "      <td>January 31, 2020</td>\n",
       "    </tr>\n",
       "  </tbody>\n",
       "</table>\n",
       "</div>"
      ],
      "text/plain": [
       "   ratings                                            reviews  \\\n",
       "0        1  Your browser does not support HTML5 video.\\n\\n...   \n",
       "1        5  Your browser does not support HTML5 video.\\n\\n...   \n",
       "2        5  For the price this mouse is quite good. The to...   \n",
       "3        5  Great wireless mouse. I love that it has an on...   \n",
       "4        5  I don't really write that many reviews on Amaz...   \n",
       "5        1  Update 9/21/17: After initially leaving positi...   \n",
       "6        1  DO NOT BUY THIS MOUSE. i know it's cheap, i kn...   \n",
       "7        3  Lightweight and streamline, the click is barel...   \n",
       "8        5  So far so good! I'll let you know if there is ...   \n",
       "9        5  Your browser does not support HTML5 video.\\n\\n...   \n",
       "10       1  This mouse didn’t even last me two full days. ...   \n",
       "11       2  Your browser does not support HTML5 video.\\n\\n...   \n",
       "12       5  I was looking for a light weight, low profile ...   \n",
       "13       1  I got this product about a year ago but I neve...   \n",
       "14       1  EDIT 2/20/19:Completely stopped working. Wow, ...   \n",
       "15       2  This wireless mouse is nice. It feels good in ...   \n",
       "16       1  I simply do not understand how this Slim Mouse...   \n",
       "17       5  Your browser does not support HTML5 video.\\n\\n...   \n",
       "18       1  I am changing my initial review because the sl...   \n",
       "19       5  Perfect for the budget-conscious, no-frills us...   \n",
       "20       1  There are so many choices on Amazon, and I bou...   \n",
       "21       5  have had no problems with this. Was worried ab...   \n",
       "22       5  I am quite hard on my mice and purchased this ...   \n",
       "23       4  Broken after about 9 months of light use.  Qua...   \n",
       "24       3  I'm a mouse connoisseur of sorts. When Logitec...   \n",
       "25       2  My Jelly Comb gave out on me, it now skips and...   \n",
       "26       5  I have to say I am actually quite pleased with...   \n",
       "27       4  I like the colors of these mouses.  The click ...   \n",
       "28       5  Your browser does not support HTML5 video.\\n\\n...   \n",
       "29       1  I have never heard of sleep mode on a mouse.  ...   \n",
       "30       3  Ill start with the pros:1. I absolutely LOVE t...   \n",
       "31       4  I am THE mouse killer. I love my wireless mice...   \n",
       "32       2  This mouse looks so amazing. I bought it for m...   \n",
       "33       3  I have bought two of these, this recent one se...   \n",
       "34       3  I purchased this slim mouse so it would would ...   \n",
       "35       4  The mouse seems to have its own mind of its ow...   \n",
       "36       5  I had a silent mouse break during my flight du...   \n",
       "37       5  This is a very sleek mouse. I bought it for my...   \n",
       "38       4  When looking for a mouse for my new MacBook Ai...   \n",
       "39       1  Order *placed* April 10 - mouse completely non...   \n",
       "40       4  I purchased this product as a replacement for ...   \n",
       "41       5  I love the design and sleekness! I actually bo...   \n",
       "42       4  I had to replace my portable mouse and was dyi...   \n",
       "43       2  I've had this mouse for about four and a half ...   \n",
       "44       5  I downloaded Mojave on my Mac last week.  Afte...   \n",
       "45       2  I didn't know until after purchase that the sl...   \n",
       "46       5  Bought 3 of these looking for some basic wirel...   \n",
       "47       3  UPDATE -  I have been working with the custome...   \n",
       "48       4  I could have bought any wireless mouse, but I ...   \n",
       "49       1  Bought this mouse via Prime May 28 2019. In ea...   \n",
       "\n",
       "                       user                date  \n",
       "0                       Doc  September 22, 2017  \n",
       "1                Sigrid Koo      March 19, 2019  \n",
       "2                 MonkeyPaw      March 21, 2017  \n",
       "3            AmazonCustomer     October 5, 2017  \n",
       "4                       DJW      March 13, 2017  \n",
       "5                        KM  September 16, 2017  \n",
       "6               chelizabeth   December 15, 2017  \n",
       "7           Lawren Freebody       July 26, 2017  \n",
       "8          Gabriel Martinez    October 19, 2016  \n",
       "9            Melissa Teller      March 17, 2020  \n",
       "10           Velvet Thunder      March 29, 2019  \n",
       "11                   Velvet      April 25, 2018  \n",
       "12                 Prentice        July 5, 2016  \n",
       "13                       JJ   February 15, 2019  \n",
       "14                  jjk0892    February 7, 2019  \n",
       "15                      Max   December 27, 2017  \n",
       "16                   StPete    November 8, 2019  \n",
       "17                     J.R.    October 13, 2019  \n",
       "18                 dr weitl        July 1, 2019  \n",
       "19  Patti-Cakes from Dayton  September 29, 2016  \n",
       "20                      CMA       April 7, 2018  \n",
       "21                  Colin J   November 11, 2016  \n",
       "22                     Beth        May 30, 2017  \n",
       "23             penguindeity       March 9, 2018  \n",
       "24             Johnny Blood    December 2, 2018  \n",
       "25                  Frannie    October 21, 2017  \n",
       "26                Seraphina    January 10, 2017  \n",
       "27                  safadez      April 12, 2020  \n",
       "28                    Julia   December 23, 2019  \n",
       "29           Leonard Paasch    October 21, 2019  \n",
       "30             Amanda Ogden   February 23, 2021  \n",
       "31            Twisterjester    January 27, 2020  \n",
       "32                    Adroa   September 5, 2019  \n",
       "33                Gruntlife   November 20, 2019  \n",
       "34                 melrowgo       March 5, 2019  \n",
       "35               Si Ristina    October 15, 2019  \n",
       "36                  W. Kwok         May 4, 2019  \n",
       "37                        A  September 14, 2020  \n",
       "38                    Oscar   September 1, 2017  \n",
       "39                    Penny         May 2, 2018  \n",
       "40              Jane Q. Doe       June 14, 2019  \n",
       "41            Shannon Brown         May 3, 2020  \n",
       "42                KL Thomas        June 3, 2019  \n",
       "43                S. Hutton    November 1, 2019  \n",
       "44              A. Holloway    October 31, 2018  \n",
       "45                  PACSman        May 14, 2021  \n",
       "46                 Sharif J    October 16, 2017  \n",
       "47                  Jared D  September 17, 2020  \n",
       "48               Gregory M.     August 19, 2020  \n",
       "49                 Lady Day    January 31, 2020  "
      ]
     },
     "execution_count": 216,
     "metadata": {},
     "output_type": "execute_result"
    }
   ],
   "source": [
    "total_rv= {'ratings' :all_ratings, 'reviews': all_reviews, 'user':all_user, 'date': all_dates}\n",
    "total_rv = pd.DataFrame(total_rv)\n",
    "total_rv"
   ]
  },
  {
   "cell_type": "markdown",
   "metadata": {},
   "source": [
    "## csv파일로 저장"
   ]
  },
  {
   "cell_type": "code",
   "execution_count": 218,
   "metadata": {},
   "outputs": [],
   "source": [
    "total_rv.to_csv(\"Amazon_wirelessMouse_Review.csv\", index = False)"
   ]
  }
 ],
 "metadata": {
  "kernelspec": {
   "display_name": "Python 3",
   "language": "python",
   "name": "python3"
  },
  "language_info": {
   "codemirror_mode": {
    "name": "ipython",
    "version": 3
   },
   "file_extension": ".py",
   "mimetype": "text/x-python",
   "name": "python",
   "nbconvert_exporter": "python",
   "pygments_lexer": "ipython3",
   "version": "3.8.5"
  }
 },
 "nbformat": 4,
 "nbformat_minor": 4
}
